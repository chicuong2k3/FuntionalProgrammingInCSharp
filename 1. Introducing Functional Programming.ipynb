{
 "cells": [
  {
   "cell_type": "markdown",
   "id": "f060580e",
   "metadata": {},
   "source": [
    "# Functions as First-Class Values\n",
    "In programming languages where functions are first-class citizens (or values), functions are treated just like any other data type. This means you can:\n",
    "- Pass functions as arguments to other functions.\n",
    "- Return functions as results from other functions.\n",
    "- Assign functions to variables and store them in data structures like arrays, lists, or dictionaries.\n",
    "\n",
    "> In C#, functions can be treated as first-class values through the use of `delegate` type."
   ]
  },
  {
   "cell_type": "code",
   "execution_count": null,
   "id": "66ce2e19",
   "metadata": {
    "polyglot_notebook": {
     "kernelName": "csharp"
    }
   },
   "outputs": [
    {
     "name": "stdout",
     "output_type": "stream",
     "text": [
      "[3, 6, 9]\r\n"
     ]
    }
   ],
   "source": [
    "Func<int, int> triple = x => x * 3;\n",
    "var range = Enumerable.Range(1, 3); // [1, 2, 3]\n",
    "var triples = range.Select(triple);\n",
    "Console.WriteLine($\"[{string.Join(\", \", triples)}]\");"
   ]
  },
  {
   "cell_type": "markdown",
   "id": "93853574",
   "metadata": {},
   "source": [
    "# Avoiding State Mutation\n",
    "In the functional paradigm, state mutation is discouraged. Instead of modifying existing data, you create new versions of it. This leads to:\n",
    "- Predictable behavior (no side effects).\n",
    "- Easier testing and debugging.\n",
    "- Better support for concurrency and parallelism.\n",
    "\n",
    "> In C#, while mutation is allowed, you can avoid it by using immutable data patterns and functional constructs such as **LINQ**, `records`, and `readonly` collections."
   ]
  },
  {
   "cell_type": "code",
   "execution_count": null,
   "id": "4076f712",
   "metadata": {
    "polyglot_notebook": {
     "kernelName": "csharp"
    }
   },
   "outputs": [
    {
     "name": "stdout",
     "output_type": "stream",
     "text": [
      "[7, 6, 1]\n",
      "[1, 6, 7]\n",
      "[7, 1]\n"
     ]
    }
   ],
   "source": [
    "Func<int, bool> isOdd = x => x % 2 == 1;\n",
    "int[] original = [7, 6, 1];\n",
    "var sorted = original.OrderBy(x => x);\n",
    "var filtered = original.Where(isOdd);\n",
    "Console.WriteLine($\"[{string.Join(\", \", original)}]\");\n",
    "Console.WriteLine($\"[{string.Join(\", \", sorted)}]\");\n",
    "Console.WriteLine($\"[{string.Join(\", \", filtered)}]\");"
   ]
  },
  {
   "cell_type": "markdown",
   "id": "37b4771d",
   "metadata": {},
   "source": [
    "# Why Avoiding State Mutation Is Important\n",
    "Avoiding state mutation is a core principle of functional programming. Instead of changing existing data, functional code creates new data structures with the desired changes. This immutability brings several important benefits:\n",
    "1. **Easier Testing and Debugging:** Since state doesn't change unexpectedly, test cases are more reliable. You don't need to track the entire history of variable changes to find a bug.\n",
    "2. **Better Concurrency and Parallelism:** Immutable data structures are thread-safe by default. You can run computations in parallel without worrying about race conditions or synchronization.\n"
   ]
  },
  {
   "cell_type": "markdown",
   "id": "db887f2d",
   "metadata": {},
   "source": [
    "# Representing Functions in C#\n",
    "- Methods are the most common and idiomatic way to define and invoke functions in C#. However, they are tightly coupled with the object-oriented paradigm and do not, by themselves, enable functional programming.\n",
    "- Delegates are type-safe function pointers that allow functions to be stored in variables, passed as arguments, and returned from other functions. Delegates enable higher-order programming and are foundational to functional features in C#.\n",
    "- Dictionaries can represent functions as explicit mappings between inputs (keys) and outputs (values). They're particularly useful for representing non-computable or memoized functions, allowing for constant-time lookups instead of recomputation."
   ]
  },
  {
   "cell_type": "markdown",
   "id": "eb287366",
   "metadata": {},
   "source": [
    "# Higher-order Functions\n",
    "## HOFs as Delegators\n",
    "**Example 1:** `Where<T>`\n",
    "A classic HOF accepts a function (predicate) and invokes it to determine whether to include an item in the output."
   ]
  },
  {
   "cell_type": "code",
   "execution_count": 1,
   "metadata": {
    "language_info": {
     "name": "polyglot-notebook"
    },
    "polyglot_notebook": {
     "kernelName": "csharp"
    }
   },
   "outputs": [],
   "source": [
    "public static IEnumerable<T> Where<T>(\n",
    "    this IEnumerable<T> source,\n",
    "    Func<T, bool> predicate)\n",
    "{\n",
    "    if (source == null) throw new ArgumentNullException(nameof(source));\n",
    "    if (predicate == null) throw new ArgumentNullException(nameof(predicate));\n",
    "\n",
    "    foreach (T item in source)\n",
    "    {\n",
    "        if (predicate(item))\n",
    "        {\n",
    "            yield return item;\n",
    "        }\n",
    "    }\n",
    "}"
   ]
  },
  {
   "cell_type": "code",
   "execution_count": 2,
   "metadata": {
    "language_info": {
     "name": "polyglot-notebook"
    },
    "polyglot_notebook": {
     "kernelName": "csharp"
    }
   },
   "outputs": [
    {
     "name": "stdout",
     "output_type": "stream",
     "text": [
      "[2, 4, 6]\r\n"
     ]
    }
   ],
   "source": [
    "List<int> numbers = [1, 2, 3, 4, 5, 6];\n",
    "var evens = numbers.Where(n => n % 2 == 0);\n",
    "Console.WriteLine($\"[{string.Join(\", \", evens)}]\");"
   ]
  },
  {
   "cell_type": "markdown",
   "id": "f37de420",
   "metadata": {},
   "source": [
    "**Example 2:** `Cache<T>`\n",
    "You can use a delegate to provide fallback behavior."
   ]
  },
  {
   "cell_type": "code",
   "execution_count": 5,
   "metadata": {
    "language_info": {
     "name": "polyglot-notebook"
    },
    "polyglot_notebook": {
     "kernelName": "csharp"
    }
   },
   "outputs": [],
   "source": [
    "public class Cache<T> where T : class\n",
    "{\n",
    "    private readonly Dictionary<Guid, T> _storage = new();\n",
    "    public T Get(Guid id)\n",
    "    {\n",
    "        _storage.TryGetValue(id, out var item);\n",
    "        return item;\n",
    "    }\n",
    "    \n",
    "    public T Get(Guid id, Func<T> onMiss)\n",
    "    {\n",
    "        var item = Get(id);\n",
    "        if (item == null && onMiss != null)\n",
    "        {\n",
    "            item = onMiss();\n",
    "            if (item != null)\n",
    "            {\n",
    "                _storage[id] = item;\n",
    "            }\n",
    "        }\n",
    "        return item;\n",
    "    }\n",
    "}"
   ]
  },
  {
   "cell_type": "code",
   "execution_count": null,
   "metadata": {
    "language_info": {
     "name": "polyglot-notebook"
    },
    "polyglot_notebook": {
     "kernelName": "csharp"
    }
   },
   "outputs": [
    {
     "name": "stdout",
     "output_type": "stream",
     "text": [
      "Fetching from database...\n",
      "User-0590cc84-5ee7-4fdd-ab57-96a79b40935e\n"
     ]
    }
   ],
   "source": [
    "var cache = new Cache<string>();\n",
    "Guid userId = Guid.NewGuid();\n",
    "string user = cache.Get(userId, () => LoadUserFromDatabase(userId));\n",
    "user = cache.Get(userId, () => LoadUserFromDatabase(userId));\n",
    "// only fetch data from database once\n",
    "Console.WriteLine(user);\n",
    "\n",
    "static string LoadUserFromDatabase(Guid id)\n",
    "{\n",
    "    Console.WriteLine(\"Fetching from database...\");\n",
    "    return $\"User-{id.ToString()}\";\n",
    "}"
   ]
  },
  {
   "cell_type": "markdown",
   "id": "fe7cb5e7",
   "metadata": {},
   "source": [
    "**Example 3:** Retry Logic"
   ]
  },
  {
   "cell_type": "code",
   "execution_count": null,
   "metadata": {
    "language_info": {
     "name": "polyglot-notebook"
    },
    "polyglot_notebook": {
     "kernelName": "csharp"
    }
   },
   "outputs": [],
   "source": [
    "using System.Threading;\n",
    "\n",
    "public static class RetryHelper\n",
    "{\n",
    "    public static T Retry<T>(Func<T> action, int maxAttempts, int delayMs = 100)\n",
    "    {\n",
    "        if (action == null) throw new ArgumentNullException(nameof(action));\n",
    "\n",
    "        int attempts = 0;\n",
    "        while (true)\n",
    "        {\n",
    "            try\n",
    "            {\n",
    "                return action();\n",
    "            }\n",
    "            catch\n",
    "            {\n",
    "                attempts++;\n",
    "                if (attempts >= maxAttempts)\n",
    "                    throw;\n",
    "\n",
    "                Thread.Sleep(delayMs);\n",
    "            }\n",
    "        }\n",
    "    }\n",
    "}"
   ]
  },
  {
   "cell_type": "code",
   "execution_count": 16,
   "metadata": {
    "language_info": {
     "name": "polyglot-notebook"
    },
    "polyglot_notebook": {
     "kernelName": "csharp"
    }
   },
   "outputs": [
    {
     "name": "stdout",
     "output_type": "stream",
     "text": [
      "Trying...\n",
      "Trying...\n",
      "Complete!\n"
     ]
    }
   ],
   "source": [
    "int result = RetryHelper.Retry(() =>\n",
    "{\n",
    "    Console.WriteLine(\"Trying...\");\n",
    "    if (new Random().Next(3) != 0) throw new Exception(\"Failed\");\n",
    "    Console.WriteLine(\"Complete!\");\n",
    "    return 42;\n",
    "}, maxAttempts: 5);"
   ]
  },
  {
   "cell_type": "markdown",
   "id": "8b9ab9c9",
   "metadata": {},
   "source": [
    "## Adapter Functions\n",
    "Instead of running the function you pass in, adapter HOFs return a new function based on it. It helps you effectively to change the shape or behavior of the function interface."
   ]
  },
  {
   "cell_type": "code",
   "execution_count": 23,
   "metadata": {
    "language_info": {
     "name": "polyglot-notebook"
    },
    "polyglot_notebook": {
     "kernelName": "csharp"
    }
   },
   "outputs": [],
   "source": [
    "public static class FunctionAdapters\n",
    "{\n",
    "    /// <summary>\n",
    "    /// Swaps the two arguments of a binary function.\n",
    "    /// For example, (x, y) => x / y becomes (y, x) => x / y.\n",
    "    /// </summary>\n",
    "    public static Func<T2, T1, R> SwapArgs<T1, T2, R>(Func<T1, T2, R> func)\n",
    "    {\n",
    "        return (t2, t1) => func(t1, t2);\n",
    "    }\n",
    "}"
   ]
  },
  {
   "cell_type": "code",
   "execution_count": 25,
   "metadata": {
    "language_info": {
     "name": "polyglot-notebook"
    },
    "polyglot_notebook": {
     "kernelName": "csharp"
    }
   },
   "outputs": [
    {
     "name": "stdout",
     "output_type": "stream",
     "text": [
      "4\n",
      "4\n"
     ]
    }
   ],
   "source": [
    "Func<int, double, double> divide = (x, y) => x / y;\n",
    "Console.WriteLine(divide(10, 2.5)); \n",
    "Func<double, int, double> divideBy = FunctionAdapters.SwapArgs(divide);\n",
    "Console.WriteLine(divideBy(2.5, 10));"
   ]
  },
  {
   "cell_type": "markdown",
   "id": "925b0795",
   "metadata": {},
   "source": [
    "## Function Factories\n",
    "These are higher-order functions where the output is another function, often pre-configured with some static data or behavior. You use this pattern when you want to generate a custom function on the fly, based on input.\n",
    "Suppose you're building a dynamic form validator."
   ]
  },
  {
   "cell_type": "code",
   "execution_count": 26,
   "metadata": {
    "language_info": {
     "name": "polyglot-notebook"
    },
    "polyglot_notebook": {
     "kernelName": "csharp"
    }
   },
   "outputs": [],
   "source": [
    "Func<int, int, Func<string, bool>> StringLengthBetween = (min, max) =>\n",
    "    str => str != null && str.Length >= min && str.Length <= max;"
   ]
  },
  {
   "cell_type": "code",
   "execution_count": 27,
   "metadata": {
    "language_info": {
     "name": "polyglot-notebook"
    },
    "polyglot_notebook": {
     "kernelName": "csharp"
    }
   },
   "outputs": [
    {
     "name": "stdout",
     "output_type": "stream",
     "text": [
      "True\n",
      "False\n",
      "False\n"
     ]
    }
   ],
   "source": [
    "var isShortName = StringLengthBetween(2, 10);\n",
    "Console.WriteLine(isShortName(\"Tom\"));\n",
    "Console.WriteLine(isShortName(\"\"));    \n",
    "Console.WriteLine(isShortName(\"This is too long\"));"
   ]
  },
  {
   "cell_type": "markdown",
   "id": "10662875",
   "metadata": {},
   "source": [
    "## Eliminate Duplication with Higher-Order Functions\n",
    "Encapsulating setup/teardown logic to eliminate duplication, especially in resource management (database connections, files, sockets...)\n",
    "When using Dapper, setup/teardown looks like this:\n",
    "```csharp\n",
    "using (var conn = new SqlConnection(connString))\n",
    "{\n",
    "    conn.Open();\n",
    "}\n",
    "```\n",
    "This is repeated in every method that touches the database.\n",
    "Let's abstract that into a HOF that takes care of:\n",
    "- Creating and opening the connection.\n",
    "- Disposing of it automatically.\n",
    "- Running the provided logic.\n",
    "\n",
    "### Step 1: Create a HOF "
   ]
  },
  {
   "cell_type": "code",
   "execution_count": 35,
   "metadata": {
    "language_info": {
     "name": "polyglot-notebook"
    },
    "polyglot_notebook": {
     "kernelName": "csharp"
    }
   },
   "outputs": [
    {
     "data": {
      "text/html": [
       "<div><div></div><div></div><div><strong>Installed Packages</strong><ul><li><span>Dapper, 2.1.66</span></li><li><span>Microsoft.Data.SqlClient, 6.0.2</span></li></ul></div></div>"
      ]
     },
     "metadata": {},
     "output_type": "display_data"
    }
   ],
   "source": [
    "#r \"nuget: Dapper\"\n",
    "#r \"nuget: Microsoft.Data.SqlClient\""
   ]
  },
  {
   "cell_type": "code",
   "execution_count": 37,
   "metadata": {
    "language_info": {
     "name": "polyglot-notebook"
    },
    "polyglot_notebook": {
     "kernelName": "csharp"
    }
   },
   "outputs": [],
   "source": [
    "using System.Data;\n",
    "using Microsoft.Data.SqlClient;\n",
    "using Dapper;\n",
    "\n",
    "public static class ConnectionHelper\n",
    "{\n",
    "    public static R Connect<R>(string connectionString, Func<IDbConnection, R> func)\n",
    "    {\n",
    "        using (var conn = new SqlConnection(connectionString))\n",
    "        {\n",
    "            conn.Open();\n",
    "            return func(conn);\n",
    "        }\n",
    "    }\n",
    "}"
   ]
  },
  {
   "cell_type": "code",
   "execution_count": 38,
   "metadata": {
    "language_info": {
     "name": "polyglot-notebook"
    },
    "polyglot_notebook": {
     "kernelName": "csharp"
    }
   },
   "outputs": [],
   "source": [
    "using Dapper;\n",
    "\n",
    "public class DbLogger\n",
    "{\n",
    "    private string _connectionString;\n",
    "\n",
    "    public DbLogger(string connectionString)\n",
    "        => _connectionString = connectionString;\n",
    "\n",
    "    public void Log(string message)\n",
    "        => ConnectionHelper.Connect(_connectionString, c =>\n",
    "            c.Execute(\"sp_create_log\", message, commandType: CommandType.StoredProcedure));\n",
    "\n",
    "    public IEnumerable<string> GetLogs(DateTime since)\n",
    "        => ConnectionHelper.Connect(_connectionString, c =>\n",
    "            c.Query<string>(\"SELECT * FROM Logs WHERE Timestamp > @since\", new { since }));\n",
    "}"
   ]
  },
  {
   "cell_type": "markdown",
   "id": "0ebc2802",
   "metadata": {},
   "source": [
    "### Step 2: Generalizing `using`\n",
    "The `using` keyword is not composable (it's a statement). We can write a generic `Using` function to turn it into a first-class, composable function."
   ]
  },
  {
   "cell_type": "code",
   "execution_count": 39,
   "metadata": {
    "language_info": {
     "name": "polyglot-notebook"
    },
    "polyglot_notebook": {
     "kernelName": "csharp"
    }
   },
   "outputs": [],
   "source": [
    "public static class F\n",
    "{\n",
    "    public static R Using<TDisp, R>(TDisp disposable, Func<TDisp, R> f)\n",
    "        where TDisp : IDisposable\n",
    "    {\n",
    "        using (disposable)\n",
    "        {\n",
    "            return f(disposable);\n",
    "        }\n",
    "    }\n",
    "}"
   ]
  },
  {
   "cell_type": "markdown",
   "id": "3980a6d6",
   "metadata": {},
   "source": [
    "### Step 3: Use `Using` to reimplement `Connect`"
   ]
  },
  {
   "cell_type": "code",
   "execution_count": 41,
   "metadata": {
    "language_info": {
     "name": "polyglot-notebook"
    },
    "polyglot_notebook": {
     "kernelName": "csharp"
    }
   },
   "outputs": [],
   "source": [
    "using System.Data;\n",
    "using Microsoft.Data.SqlClient;\n",
    "\n",
    "public static class ConnectionHelper\n",
    "{\n",
    "    public static R Connect<R>(string connectionString, Func<IDbConnection, R> func)\n",
    "        => F.Using(new SqlConnection(connectionString), conn =>\n",
    "        {\n",
    "            conn.Open();\n",
    "            return func(conn);\n",
    "        });\n",
    "}"
   ]
  }
 ],
 "metadata": {
  "kernelspec": {
   "display_name": ".NET (C#)",
   "language": "C#",
   "name": ".net-csharp"
  },
  "polyglot_notebook": {
   "kernelInfo": {
    "defaultKernelName": "csharp",
    "items": [
     {
      "aliases": [],
      "languageName": "csharp",
      "name": "csharp"
     }
    ]
   }
  }
 },
 "nbformat": 4,
 "nbformat_minor": 5
}
